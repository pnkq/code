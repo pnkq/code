{
 "cells": [
  {
   "cell_type": "code",
   "execution_count": 1,
   "metadata": {},
   "outputs": [],
   "source": [
    "import networkx as nx\n",
    "#import matplotlib.pyplot as plt\n",
    "import csv"
   ]
  },
  {
   "cell_type": "code",
   "execution_count": 2,
   "metadata": {},
   "outputs": [
    {
     "data": {
      "text/plain": [
       "131072"
      ]
     },
     "execution_count": 2,
     "metadata": {},
     "output_type": "execute_result"
    }
   ],
   "source": [
    "import sys\n",
    "csv.field_size_limit(sys.maxsize)"
   ]
  },
  {
   "cell_type": "code",
   "execution_count": 8,
   "metadata": {},
   "outputs": [],
   "source": [
    "lang = \"vie\"\n",
    "split = \"train\""
   ]
  },
  {
   "cell_type": "code",
   "execution_count": 9,
   "metadata": {},
   "outputs": [
    {
     "name": "stdout",
     "output_type": "stream",
     "text": [
      "Number of nodes in train split of ind =  19088\n",
      "Number of edges in train split of ind =  75181\n"
     ]
    }
   ],
   "source": [
    "U = nx.DiGraph()\n",
    "nodes = set()\n",
    "edges = []\n",
    "path = f\"../../../dat/dep/{lang}-{split}.tsv\"\n",
    "with open(path) as file:\n",
    "  lines = csv.reader(file, delimiter='\\t', quotechar=\"Đ\")\n",
    "  for line in lines:\n",
    "    # print(line)\n",
    "    nodes.add(line[0])\n",
    "    nodes.add(line[1])\n",
    "    edges.append((line[0], line[1], {\"label\": line[2]}))\n",
    "    \n",
    "U.add_nodes_from(nodes)\n",
    "U.add_edges_from(edges)\n",
    "print(f\"Number of nodes in {split} split of {lang} = \", len(nodes))\n",
    "print(f\"Number of edges in {split} split of {lang} = \", len(edges))\n"
   ]
  },
  {
   "cell_type": "code",
   "execution_count": 107,
   "metadata": {},
   "outputs": [],
   "source": [
    "# # pos = nx.circular_layout(U)\n",
    "# pos = nx.spring_layout(U, seed=992015)\n",
    "# plt.figure(1, figsize=(20,20))\n",
    "# # nodes\n",
    "# nx.draw_networkx_nodes(U, pos, node_size=600, node_color='blue', alpha=0)\n",
    "# nx.draw_networkx_labels(U, pos, font_size=8, font_family=\"courier\")\n",
    "# # edges\n",
    "# nx.draw_networkx_edges(U, pos, width=1, arrowstyle='->')\n",
    "# edge_labels = nx.get_edge_attributes(U, \"label\")\n",
    "# nx.draw_networkx_edge_labels(U, pos, edge_labels, font_size=5)"
   ]
  },
  {
   "cell_type": "code",
   "execution_count": 108,
   "metadata": {},
   "outputs": [
    {
     "data": {
      "text/plain": [
       "False"
      ]
     },
     "execution_count": 108,
     "metadata": {},
     "output_type": "execute_result"
    }
   ],
   "source": [
    "nx.is_directed_acyclic_graph(U)"
   ]
  },
  {
   "cell_type": "code",
   "execution_count": 109,
   "metadata": {},
   "outputs": [],
   "source": [
    "# nx.simrank_similarity(U, 'outside:ADP', \"near:ADP\") # slow for the training graph"
   ]
  },
  {
   "cell_type": "code",
   "execution_count": 110,
   "metadata": {},
   "outputs": [],
   "source": [
    "ic = nx.in_degree_centrality(U)"
   ]
  },
  {
   "cell_type": "code",
   "execution_count": 111,
   "metadata": {},
   "outputs": [],
   "source": [
    "with open(f\"../../../dat/dep/{lang}-indegree-centrality-{split}.tsv\", 'w') as file: \n",
    "    w = csv.writer(file, delimiter='\\t')\n",
    "    w.writerows(ic.items())"
   ]
  },
  {
   "cell_type": "code",
   "execution_count": 112,
   "metadata": {},
   "outputs": [],
   "source": [
    "ec = nx.eigenvector_centrality(U)"
   ]
  },
  {
   "cell_type": "code",
   "execution_count": 113,
   "metadata": {},
   "outputs": [],
   "source": [
    "# write the values to a cvs file\n",
    "with open(f\"../../../dat/dep/{lang}-eigenvector-centrality-{split}.tsv\", 'w') as file: \n",
    "    w = csv.writer(file, delimiter='\\t')\n",
    "    w.writerows(ec.items())"
   ]
  },
  {
   "cell_type": "code",
   "execution_count": 114,
   "metadata": {},
   "outputs": [],
   "source": [
    "pr = nx.pagerank(U)"
   ]
  },
  {
   "cell_type": "code",
   "execution_count": 115,
   "metadata": {},
   "outputs": [],
   "source": [
    "with open(f\"../../../dat/dep/{lang}-pagerank-{split}.tsv\", 'w') as file: \n",
    "    w = csv.writer(file, delimiter='\\t')\n",
    "    w.writerows(pr.items())"
   ]
  },
  {
   "cell_type": "code",
   "execution_count": 116,
   "metadata": {},
   "outputs": [],
   "source": [
    "# pa = nx.preferential_attachment(U)"
   ]
  },
  {
   "cell_type": "code",
   "execution_count": null,
   "metadata": {},
   "outputs": [],
   "source": []
  }
 ],
 "metadata": {
  "kernelspec": {
   "display_name": "BDL",
   "language": "python",
   "name": "python3"
  },
  "language_info": {
   "codemirror_mode": {
    "name": "ipython",
    "version": 3
   },
   "file_extension": ".py",
   "mimetype": "text/x-python",
   "name": "python",
   "nbconvert_exporter": "python",
   "pygments_lexer": "ipython3",
   "version": "3.7.15"
  }
 },
 "nbformat": 4,
 "nbformat_minor": 2
}
